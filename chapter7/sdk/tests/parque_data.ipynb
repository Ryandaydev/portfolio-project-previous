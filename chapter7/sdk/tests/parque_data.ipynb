{
 "cells": [
  {
   "cell_type": "code",
   "execution_count": 3,
   "metadata": {},
   "outputs": [],
   "source": [
    "from io import StringIO, BytesIO\n",
    "import pyarrow.parquet as pq\n",
    "import pandas as pd\n",
    "import httpx\n",
    "\n",
    "player_file_parquet_url = \"https://raw.githubusercontent.com/Ryandaydev/portfolio-project/main/chapter7/sdk/bulk/player_data.parquet\"\n",
    "\n",
    "# Download the file content using httpx\n",
    "response = httpx.get(player_file_parquet_url)\n",
    "response.raise_for_status()  # Ensure the request was successful\n",
    "\n",
    "# Read the Parquet file from bytes\n",
    "player_table = pq.read_table(BytesIO(response.content))\n",
    "\n",
    "player_df = player_table.to_pandas()\n",
    "\n"
   ]
  },
  {
   "cell_type": "code",
   "execution_count": 4,
   "metadata": {},
   "outputs": [
    {
     "data": {
      "text/html": [
       "<div>\n",
       "<style scoped>\n",
       "    .dataframe tbody tr th:only-of-type {\n",
       "        vertical-align: middle;\n",
       "    }\n",
       "\n",
       "    .dataframe tbody tr th {\n",
       "        vertical-align: top;\n",
       "    }\n",
       "\n",
       "    .dataframe thead th {\n",
       "        text-align: right;\n",
       "    }\n",
       "</style>\n",
       "<table border=\"1\" class=\"dataframe\">\n",
       "  <thead>\n",
       "    <tr style=\"text-align: right;\">\n",
       "      <th></th>\n",
       "      <th>player_id</th>\n",
       "      <th>gsis_id</th>\n",
       "      <th>first_name</th>\n",
       "      <th>last_name</th>\n",
       "      <th>position</th>\n",
       "      <th>last_changed_date</th>\n",
       "    </tr>\n",
       "  </thead>\n",
       "  <tbody>\n",
       "    <tr>\n",
       "      <th>0</th>\n",
       "      <td>101</td>\n",
       "      <td>00-0038400</td>\n",
       "      <td>Tanner</td>\n",
       "      <td>McKee</td>\n",
       "      <td>QB</td>\n",
       "      <td>2024-04-22</td>\n",
       "    </tr>\n",
       "    <tr>\n",
       "      <th>1</th>\n",
       "      <td>102</td>\n",
       "      <td>00-0039150</td>\n",
       "      <td>Bryce</td>\n",
       "      <td>Young</td>\n",
       "      <td>QB</td>\n",
       "      <td>2024-04-22</td>\n",
       "    </tr>\n",
       "    <tr>\n",
       "      <th>2</th>\n",
       "      <td>103</td>\n",
       "      <td>00-0039152</td>\n",
       "      <td>Will</td>\n",
       "      <td>Levis</td>\n",
       "      <td>QB</td>\n",
       "      <td>2024-04-22</td>\n",
       "    </tr>\n",
       "    <tr>\n",
       "      <th>3</th>\n",
       "      <td>104</td>\n",
       "      <td>00-0039163</td>\n",
       "      <td>C.J.</td>\n",
       "      <td>Stroud</td>\n",
       "      <td>QB</td>\n",
       "      <td>2024-04-22</td>\n",
       "    </tr>\n",
       "    <tr>\n",
       "      <th>4</th>\n",
       "      <td>105</td>\n",
       "      <td>00-0038550</td>\n",
       "      <td>Hendon</td>\n",
       "      <td>Hooker</td>\n",
       "      <td>QB</td>\n",
       "      <td>2024-04-22</td>\n",
       "    </tr>\n",
       "  </tbody>\n",
       "</table>\n",
       "</div>"
      ],
      "text/plain": [
       "   player_id     gsis_id first_name last_name position last_changed_date\n",
       "0        101  00-0038400     Tanner     McKee       QB        2024-04-22\n",
       "1        102  00-0039150      Bryce     Young       QB        2024-04-22\n",
       "2        103  00-0039152       Will     Levis       QB        2024-04-22\n",
       "3        104  00-0039163       C.J.    Stroud       QB        2024-04-22\n",
       "4        105  00-0038550     Hendon    Hooker       QB        2024-04-22"
      ]
     },
     "execution_count": 4,
     "metadata": {},
     "output_type": "execute_result"
    }
   ],
   "source": [
    "player_df.head()"
   ]
  },
  {
   "cell_type": "code",
   "execution_count": 5,
   "metadata": {},
   "outputs": [
    {
     "name": "stdout",
     "output_type": "stream",
     "text": [
      "550\n"
     ]
    }
   ],
   "source": [
    "print(len(player_df))"
   ]
  },
  {
   "cell_type": "code",
   "execution_count": null,
   "metadata": {},
   "outputs": [],
   "source": []
  }
 ],
 "metadata": {
  "kernelspec": {
   "display_name": "Python 3",
   "language": "python",
   "name": "python3"
  },
  "language_info": {
   "codemirror_mode": {
    "name": "ipython",
    "version": 3
   },
   "file_extension": ".py",
   "mimetype": "text/x-python",
   "name": "python",
   "nbconvert_exporter": "python",
   "pygments_lexer": "ipython3",
   "version": "3.10.13"
  }
 },
 "nbformat": 4,
 "nbformat_minor": 2
}
